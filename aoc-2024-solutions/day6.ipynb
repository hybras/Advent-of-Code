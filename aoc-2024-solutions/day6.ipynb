{
 "cells": [
  {
   "cell_type": "code",
   "execution_count": 37,
   "metadata": {},
   "outputs": [],
   "source": [
    "import re\n",
    "import aocp\n",
    "from typing import List, Tuple, Set, Iterator\n",
    "from collections import defaultdict\n",
    "from dataclasses import dataclass\n",
    "from copy import deepcopy\n",
    "from functools import cmp_to_key\n",
    "\n",
    "# Read input\n",
    "input = list(map(list, open(\"../input/day6.txt\").readlines()))\n",
    "\n",
    "#  cardinal direction enum\n",
    "class Direction:\n",
    "    N = 0\n",
    "    E = 1\n",
    "    S = 2\n",
    "    W = 3\n",
    "\n",
    "    @staticmethod\n",
    "    def get_direction(direction: int) -> Tuple[int, int]:\n",
    "        if direction == Direction.N:\n",
    "            return -1, 0\n",
    "        if direction == Direction.E:\n",
    "            return 0, 1\n",
    "        if direction == Direction.S:\n",
    "            return 1, 0\n",
    "        if direction == Direction.W:\n",
    "            return 0, -1\n",
    "\n",
    "    @staticmethod\n",
    "    def get_direction_char(direction: int) -> str:\n",
    "        if direction == Direction.N:\n",
    "            return 'N'\n",
    "        if direction == Direction.E:\n",
    "            return 'E'\n",
    "        if direction == Direction.S:\n",
    "            return 'S'\n",
    "        if direction == Direction.W:\n",
    "            return 'W'\n",
    "\n",
    "    @staticmethod\n",
    "    def rotate_clockwise(direction: int) -> int:\n",
    "        return (direction + 1) % 4"
   ]
  },
  {
   "cell_type": "code",
   "execution_count": 24,
   "metadata": {},
   "outputs": [],
   "source": [
    "def find_guard(strings):\n",
    "    for i, string in enumerate(strings):\n",
    "        for j, char in enumerate(string):\n",
    "           if char == '^': return (i, j)\n"
   ]
  },
  {
   "cell_type": "code",
   "execution_count": 41,
   "metadata": {},
   "outputs": [
    {
     "name": "stdout",
     "output_type": "stream",
     "text": [
      "p1: 5129\n"
     ]
    }
   ],
   "source": [
    "def part1(input) -> int:\n",
    "    input = deepcopy(input)\n",
    "    facing = Direction.N\n",
    "    (pos_x, pos_y) = find_guard(input)\n",
    "    input[pos_x][pos_y] = 'X'\n",
    "    height = len(input)\n",
    "    width = len(input[0])\n",
    "    count = 1\n",
    "    while pos_x in range(height) and pos_y in range(width):\n",
    "        dx, dy = Direction.get_direction(facing)\n",
    "        match input[pos_x][pos_y]:\n",
    "            case '#':\n",
    "                pos_x -= dx\n",
    "                pos_y -= dy\n",
    "                facing = Direction.rotate_clockwise(facing)\n",
    "            case '.':\n",
    "                count += 1\n",
    "                input[pos_x][pos_y] = 'X'\n",
    "                pos_x += dx\n",
    "                pos_y += dy\n",
    "            case 'X':\n",
    "                pos_x += dx\n",
    "                pos_y += dy\n",
    "            \n",
    "    return count\n",
    "\n",
    "print(f\"p1: {part1(input)}\")"
   ]
  },
  {
   "cell_type": "code",
   "execution_count": 18,
   "metadata": {},
   "outputs": [],
   "source": [
    "\n",
    "def part2(input) -> int:\n",
    "    pass"
   ]
  }
 ],
 "metadata": {
  "kernelspec": {
   "display_name": ".venv",
   "language": "python",
   "name": "python3"
  },
  "language_info": {
   "codemirror_mode": {
    "name": "ipython",
    "version": 3
   },
   "file_extension": ".py",
   "mimetype": "text/x-python",
   "name": "python",
   "nbconvert_exporter": "python",
   "pygments_lexer": "ipython3",
   "version": "3.13.0"
  }
 },
 "nbformat": 4,
 "nbformat_minor": 2
}
